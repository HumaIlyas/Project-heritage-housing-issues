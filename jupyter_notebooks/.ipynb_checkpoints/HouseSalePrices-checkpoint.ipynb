{
 "cells": [
  {
   "cell_type": "markdown",
   "metadata": {},
   "source": [
    "# House Sale Prices Study"
   ]
  },
  {
   "cell_type": "markdown",
   "metadata": {},
   "source": [
    "## Objectives\n",
    "\n",
    "* Answer business requirement 1:\n",
    "    * The client is interested in discovering how the house attributes correlate with the sale price. Therefore, the client expects data visualizations of the correlated variables against the sale price to show that\n",
    "\n",
    "## Inputs\n",
    "\n",
    "* outputs/datasets/collection/HousePricesRecords.csv\n",
    "\n",
    "## Outputs\n",
    "\n",
    "* Calculate the correlation coefficients between the house attributes and the sale price and visualize in a heat map. Create scatterplots of each correlated attribute against the sell price.\n",
    "\n",
    "* Save correlation coefficients to:\n",
    "outputs/house_prices_study/v1/corr_df_rev.csv\n",
    "\n",
    "* Save dictionary used in encoding object variables to:\n",
    "outputs/house_prices_study/v1/dic.pkl\n",
    "\n",
    "## Conclusions\n",
    "* Seven variables out of 23 are strongly correlated with sale price\n",
    "* The sale price distribution is skewed to the right"
   ]
  },
  {
   "cell_type": "markdown",
   "metadata": {},
   "source": [
    "---"
   ]
  },
  {
   "cell_type": "markdown",
   "metadata": {},
   "source": [
    "## Install python packages"
   ]
  },
  {
   "cell_type": "code",
   "execution_count": null,
   "metadata": {},
   "outputs": [],
   "source": [
    "%pip install -r /workspaces/Project-heritage-housing-issues/requirements.txt"
   ]
  },
  {
   "cell_type": "markdown",
   "metadata": {},
   "source": [
    "# Change working directory"
   ]
  },
  {
   "cell_type": "markdown",
   "metadata": {},
   "source": [
    "We need to change the working directory from its current folder to its parent folder\n",
    "* We access the current directory with os.getcwd()"
   ]
  },
  {
   "cell_type": "code",
   "execution_count": null,
   "metadata": {},
   "outputs": [],
   "source": [
    "import os\n",
    "current_dir = os.getcwd()\n",
    "current_dir"
   ]
  },
  {
   "cell_type": "markdown",
   "metadata": {},
   "source": [
    "We want to make the parent of the current directory the new current directory.\n",
    "* os.path.dirname() gets the parent directory\n",
    "* os.chdir() defines the new current directory"
   ]
  },
  {
   "cell_type": "code",
   "execution_count": null,
   "metadata": {},
   "outputs": [],
   "source": [
    "os.chdir(os.path.dirname(current_dir))\n",
    "print(\"You set a new current directory\")"
   ]
  },
  {
   "cell_type": "markdown",
   "metadata": {},
   "source": [
    "Confirm the new current directory"
   ]
  },
  {
   "cell_type": "code",
   "execution_count": null,
   "metadata": {},
   "outputs": [],
   "source": [
    "current_dir = os.getcwd()\n",
    "current_dir"
   ]
  },
  {
   "cell_type": "markdown",
   "metadata": {},
   "source": [
    "# Load Data"
   ]
  },
  {
   "cell_type": "code",
   "execution_count": null,
   "metadata": {},
   "outputs": [],
   "source": [
    "import pandas as pd\n",
    "df = (pd.read_csv(\"outputs/datasets/collection/HousePricesRecords.csv\"))\n",
    "df.head(10)"
   ]
  },
  {
   "cell_type": "markdown",
   "metadata": {},
   "source": [
    "# Data Exploration"
   ]
  },
  {
   "cell_type": "markdown",
   "metadata": {},
   "source": [
    "We are interested to get more familiar with the dataset, check variable type and distribution, missing levels and what these variables mean in a business context"
   ]
  },
  {
   "cell_type": "code",
   "execution_count": null,
   "metadata": {},
   "outputs": [],
   "source": [
    "from pandas_profiling import ProfileReport\n",
    "pandas_report = ProfileReport(df=df, minimal=True)\n",
    "pandas_report.to_notebook_iframe()"
   ]
  },
  {
   "cell_type": "markdown",
   "metadata": {},
   "source": [
    "# Correlation Study\n",
    "We use .corr() for spearman method, and sort the correlations in descending order. We start with numeric variables such as '1stFlrSF' (First Floor square feet). For each variable we remove missing data and zeros and calculate the correlation coefficient between the variable and the sale price. We store it in a list and convert the list to a Pandas Series."
   ]
  },
  {
   "cell_type": "code",
   "execution_count": null,
   "metadata": {},
   "outputs": [],
   "source": [
    "lst = []\n",
    "# Remove first zeros and missing values\n",
    "for col in df.columns[df.dtypes!='object'].to_list():\n",
    "    if col != 'SalePrice':\n",
    "        df1 = df[df[col]!=0]\n",
    "        df2 = df1[df1[col].notnull()]\n",
    "        df3 = df2.filter(['SalePrice', col])\n",
    "        corr_spearman = df3.corr(method='spearman')['SalePrice'][1:].round(2)\n",
    "        lst.append(corr_spearman[col])\n",
    "corr_num = pd.Series(index=df.columns[df.dtypes!='object'].drop(['SalePrice']).to_list(), data=lst).sort_values(key=abs, ascending=False)\n",
    "print(corr_num)"
   ]
  },
  {
   "cell_type": "markdown",
   "metadata": {},
   "source": [
    "* To calculate the correlation coefficients of the four object variables, we first encode them to numeric variables manually.\n",
    "\n",
    "**BsmtExposure:** Refers to walkout or garden level walls Gd: Good Exposure; Av: Average Exposure; Mn: Mimimum Exposure; No: No Exposure; None: No Basement\n",
    "\n",
    "**BsmtFinType1:** Rating of basement finished area GLQ: Good Living Quarters; ALQ: Average Living Quarters; BLQ: Below Average Living Quarters; Rec: Average Rec Room; LwQ: Low Quality; Unf: Unfinshed; None: No Basement\n",
    "\n",
    "**GarageFinish:** Interior finish of the garage Fin: Finished; RFn: Rough Finished; Unf: Unfinished; None: No Garage\n",
    "\n",
    "**KitchenQual:** Kitchen quality Ex: Excellent; Gd: Good; TA: Typical/Average; Fa: Fair; Po: Poor"
   ]
  },
  {
   "cell_type": "code",
   "execution_count": null,
   "metadata": {},
   "outputs": [],
   "source": [
    "# The dictionary dic maps the ordinal categorical values to integers for the four object variables.\n",
    "dic = {'BsmtExposure': {'Gd': 3, 'Av': 2, 'Mn': 1, 'No': 0}, 'BsmtFinType1': {'GLQ': 5, 'ALQ': 4, 'BLQ': 3, 'Rec': 2, 'LwQ': 1, 'Unf': 0}, 'GarageFinish': {'Fin': 2, 'RFn': 1, 'Unf': 0}, 'KitchenQual': {'Ex': 4, 'Gd': 3, 'TA': 2, 'Fa': 1, 'Po': 0}}\n",
    "lst = []\n",
    "# Remove first None and missing values\n",
    "for col in df.columns[df.dtypes=='object'].to_list():\n",
    "    df1 = df[df[col]!='None']\n",
    "    df2 = df1[df1[col].notnull()]\n",
    "    df3[col] = df2[col].replace(dic[col])\n",
    "    df4 = df3.filter(['SalePrice', col])\n",
    "    corr_spearman = df4.corr(method='spearman')['SalePrice'][1:].round(2)\n",
    "    lst.append(corr_spearman[col])\n",
    "corr_object = pd.Series(index=df.columns[df.dtypes=='object'].to_list(), data=lst).sort_values(key=abs, ascending=False)\n",
    "print(corr_object)"
   ]
  },
  {
   "cell_type": "markdown",
   "metadata": {},
   "source": [
    "* **Combine both series of correlation coefficients and sort in ascending order for the heatnap:**"
   ]
  },
  {
   "cell_type": "code",
   "execution_count": null,
   "metadata": {},
   "outputs": [],
   "source": [
    "corr = corr_num.append(corr_object).sort_values(key=abs, ascending=False).round(2)\n",
    "corr_df = pd.DataFrame(index=['SalePrice'], columns=corr.index, data=corr.values.reshape(1,-1).tolist())\n",
    "corr_df_rev = corr_df[corr_df.columns[::-1]]\n",
    "corr"
   ]
  },
  {
   "cell_type": "markdown",
   "metadata": {},
   "source": [
    "## Heatmap for correlation coefficients\n",
    "* Heatmap for correlation coefficients between house attributes and sale price"
   ]
  },
  {
   "cell_type": "code",
   "execution_count": null,
   "metadata": {},
   "outputs": [],
   "source": [
    "import numpy as np\n",
    "import matplotlib.pyplot as plt\n",
    "import seaborn as sns\n",
    "fig, axes = plt.subplots(figsize=(15,6))\n",
    "annot_size = 8\n",
    "\n",
    "# Retain only correlation values above 0.4\n",
    "mask = np.zeros_like(corr_df_rev, dtype=bool)\n",
    "mask[corr_df_rev.abs() < 0.4] = True\n",
    "\n",
    "sns.heatmap(data=corr_df_rev, annot=True, xticklabels=True, yticklabels=True,\n",
    "            mask=mask, cmap='viridis', annot_kws={\"size\": annot_size}, ax=axes,\n",
    "            linewidth=0.5)\n",
    "\n",
    "plt.show()"
   ]
  },
  {
   "cell_type": "markdown",
   "metadata": {},
   "source": [
    "The moderately strong correlation coefficients have values between 0.4 and 0.6. The strong correlation coefficients have values above 0.6. The house attribute most strongly correlated to the house price (with correlation coefficient 0.81) is the overall quality ('OverallQual') variable which is an ordinal variable."
   ]
  },
  {
   "cell_type": "code",
   "execution_count": null,
   "metadata": {},
   "outputs": [],
   "source": [
    "# dtype_dic is a dictionary used to choose between a scatterplot and a strip plot\n",
    "strongly_correlated = ['OverallQual', 'GrLivArea', '2ndFlrSF', 'KitchenQual', 'YearBuilt', 'GarageArea', 'GarageFinish']\n",
    "moderately_correlated = ['GarageYrBlt', '1stFlrSF', 'TotalBsmtSF', 'YearRemodAdd', 'LotArea', 'LotFrontage', 'BsmtFinSF1']\n",
    "dtype_dict = {'OverallQual': 'object', 'GrLivArea': 'numeric', '2ndFlrSF': 'numeric', 'KitchenQual': 'object', 'YearBuilt': 'numeric', 'GarageArea': 'numeric', 'GarageFinish': 'object', 'GarageYrBlt': 'numeric', '1stFlrSF': 'numeric', 'TotalBsmtSF': 'numeric', 'YearRemodAdd': 'numeric', 'LotArea': 'numeric', 'LotFrontage': 'numeric', 'BsmtFinSF1': 'numeric'}"
   ]
  },
  {
   "cell_type": "markdown",
   "metadata": {},
   "source": [
    "## Scatterplots between house attributes and sale price"
   ]
  },
  {
   "cell_type": "code",
   "execution_count": null,
   "metadata": {},
   "outputs": [],
   "source": [
    "# Remove first zeros/None values and missing values\n",
    "for col in strongly_correlated:\n",
    "    if df[col].dtype == 'object':\n",
    "        df1 = df[df[col]!='None']\n",
    "        df2 = df1[df1[col].notnull()]\n",
    "        df3[col] = df2[col].replace(dic[col])\n",
    "    else:\n",
    "        df1 = df[df[col]!=0]\n",
    "        df3 = df1[df1[col].notnull()]\n",
    "    if dtype_dict[col] == 'object':\n",
    "        fig, axes = plt.subplots(figsize=(12,6))\n",
    "        sns.stripplot(data=df3, x=col, y='SalePrice')\n",
    "        plt.show()\n",
    "    elif dtype_dict[col] == 'numeric':\n",
    "        fig, axes = plt.subplots(figsize=(12,6))\n",
    "        sns.scatterplot(data=df3, x=col, y='SalePrice', alpha=0.5)\n",
    "        plt.show()\n",
    "\n",
    "for col in moderately_correlated:\n",
    "    if df[col].dtype == 'object':\n",
    "        df1 = df[df[col]!='None']\n",
    "        df2 = df1[df1[col].notnull()]\n",
    "        df3[col] = df2[col].replace(dic[col])\n",
    "    else:\n",
    "        df1 = df[df[col]!=0]\n",
    "        df3 = df1[df1[col].notnull()]\n",
    "    if dtype_dict[col] == 'object':\n",
    "        fig, axes = plt.subplots(figsize=(12,6))\n",
    "        sns.stripplot(data=df, x=col, y='SalePrice')\n",
    "        plt.show()\n",
    "    elif dtype_dict[col] == 'numeric':\n",
    "        fig, axes = plt.subplots(figsize=(12,6))\n",
    "        sns.scatterplot(data=df, x=col, y='SalePrice', alpha=0.5)\n",
    "        plt.show()"
   ]
  },
  {
   "cell_type": "markdown",
   "metadata": {},
   "source": [
    "We see that the stronger the correlation the clearer the trend"
   ]
  },
  {
   "cell_type": "markdown",
   "metadata": {},
   "source": [
    "# Explore sale price distribution"
   ]
  },
  {
   "cell_type": "code",
   "execution_count": null,
   "metadata": {},
   "outputs": [],
   "source": [
    "# Code from Code Institute Scikit lesson\n",
    "sns.set_style(\"whitegrid\")\n",
    "def plot_histogram_and_boxplot(df):\n",
    "  for col in df.columns:\n",
    "    fig, axes = plt.subplots(nrows=2 ,ncols=1 ,figsize=(7,7), gridspec_kw={\"height_ratios\": (.15, .85)})\n",
    "    sns.boxplot(data=df, x=col, ax=axes[0], whis=3)\n",
    "    sns.histplot(data=df, x=col, kde=True, ax=axes[1])\n",
    "    fig.suptitle(f\"{col} Distribution - Boxplot and Histogram\")\n",
    "    plt.show()\n",
    "\n",
    "    # An outlier is defined to be outside the box in the boxplot by three times the\n",
    "    # interquantile distance\n",
    "    IQR = df[col].quantile(q=0.75) - df[col].quantile(q=0.25)\n",
    "    print(\n",
    "        f\"This is the range where a datapoint is not an outlier: from \"\n",
    "        f\"{(df[col].quantile(q=0.25) - 3*IQR).round(2)} to \"\n",
    "        f\"{(df[col].quantile(q=0.75) + 3*IQR).round(2)}\")\n",
    "    print(\"\\n\")"
   ]
  },
  {
   "cell_type": "code",
   "execution_count": null,
   "metadata": {},
   "outputs": [],
   "source": [
    "df2=df.filter(['SalePrice'])\n",
    "plot_histogram_and_boxplot(df2)"
   ]
  },
  {
   "cell_type": "markdown",
   "metadata": {},
   "source": [
    "* We see that the distribution has a long right tail or in other words it is skewed to the right."
   ]
  },
  {
   "cell_type": "markdown",
   "metadata": {},
   "source": [
    "# Store correlation coefficients dataframe"
   ]
  },
  {
   "cell_type": "code",
   "execution_count": null,
   "metadata": {},
   "outputs": [],
   "source": [
    "import joblib\n",
    "import os\n",
    "\n",
    "version = 'v1'\n",
    "file_path = f'outputs/house_prices_study/{version}'\n",
    "\n",
    "try:\n",
    "  os.makedirs(name=file_path)\n",
    "except Exception as e:\n",
    "  print(e)"
   ]
  },
  {
   "cell_type": "code",
   "execution_count": null,
   "metadata": {},
   "outputs": [],
   "source": [
    "corr_df_rev.to_csv(f\"{file_path}/corr_df_rev.csv\", index=False)"
   ]
  },
  {
   "cell_type": "markdown",
   "metadata": {},
   "source": [
    "## Store dictionary used for encoding object variables"
   ]
  },
  {
   "cell_type": "code",
   "execution_count": null,
   "metadata": {},
   "outputs": [],
   "source": [
    "joblib.dump(value=dic, filename=f\"{file_path}/dic.pkl\")"
   ]
  },
  {
   "cell_type": "markdown",
   "metadata": {},
   "source": [
    "---"
   ]
  }
 ],
 "metadata": {
  "kernelspec": {
   "display_name": "Python 3",
   "language": "python",
   "name": "python3"
  },
  "language_info": {
   "codemirror_mode": {
    "name": "ipython",
    "version": 3
   },
   "file_extension": ".py",
   "mimetype": "text/x-python",
   "name": "python",
   "nbconvert_exporter": "python",
   "pygments_lexer": "ipython3",
   "version": "3.11.1"
  },
  "orig_nbformat": 4
 },
 "nbformat": 4,
 "nbformat_minor": 2
}