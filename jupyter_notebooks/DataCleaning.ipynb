{
 "cells": [
  {
   "cell_type": "markdown",
   "metadata": {},
   "source": [
    "# Data Cleaning"
   ]
  },
  {
   "cell_type": "markdown",
   "metadata": {},
   "source": [
    "## Objectives\n",
    "\n",
    "*   Encode categorical variables and handle missing data\n",
    "*   Clean data\n",
    "\n",
    "## Inputs\n",
    "\n",
    "* outputs/datasets/collection/HeritageHousing.csv\n",
    "\n",
    "## Outputs\n",
    "\n",
    "* Generate a pipeline that performs the data cleaning\n",
    "\n",
    "## Conclusions\n",
    "\n",
    "  * Data Cleaning Pipeline\n",
    "  * Two variables have more than 90% missing values and can be dropped, seven more variables have missing values and those values can be replaced with the variable's median\n"
   ]
  },
  {
   "cell_type": "markdown",
   "metadata": {},
   "source": [
    "---"
   ]
  },
  {
   "cell_type": "markdown",
   "metadata": {},
   "source": [
    "# Change working directory"
   ]
  },
  {
   "cell_type": "markdown",
   "metadata": {},
   "source": [
    "We need to change the working directory from its current folder to its parent folder\n",
    "* We access the current directory with os.getcwd()"
   ]
  },
  {
   "cell_type": "code",
   "execution_count": 1,
   "metadata": {},
   "outputs": [
    {
     "data": {
      "text/plain": [
       "'/workspace/Project-heritage-housing-issues/jupyter_notebooks'"
      ]
     },
     "execution_count": 1,
     "metadata": {},
     "output_type": "execute_result"
    }
   ],
   "source": [
    "import os\n",
    "current_dir = os.getcwd()\n",
    "current_dir"
   ]
  },
  {
   "cell_type": "markdown",
   "metadata": {},
   "source": [
    "We want to make the parent of the current directory the new current directory\n",
    "* os.path.dirname() gets the parent directory\n",
    "* os.chdir() defines the new current directory"
   ]
  },
  {
   "cell_type": "code",
   "execution_count": 2,
   "metadata": {},
   "outputs": [
    {
     "name": "stdout",
     "output_type": "stream",
     "text": [
      "You set a new current directory\n"
     ]
    }
   ],
   "source": [
    "os.chdir(os.path.dirname(current_dir))\n",
    "print(\"You set a new current directory\")"
   ]
  },
  {
   "cell_type": "markdown",
   "metadata": {},
   "source": [
    "Confirm the new current directory"
   ]
  },
  {
   "cell_type": "code",
   "execution_count": 3,
   "metadata": {},
   "outputs": [
    {
     "data": {
      "text/plain": [
       "'/workspace/Project-heritage-housing-issues'"
      ]
     },
     "execution_count": 3,
     "metadata": {},
     "output_type": "execute_result"
    }
   ],
   "source": [
    "current_dir = os.getcwd()\n",
    "current_dir"
   ]
  },
  {
   "cell_type": "markdown",
   "metadata": {},
   "source": [
    "---"
   ]
  },
  {
   "cell_type": "markdown",
   "metadata": {},
   "source": [
    "# Load Collected data"
   ]
  },
  {
   "cell_type": "code",
   "execution_count": 4,
   "metadata": {},
   "outputs": [
    {
     "name": "stdout",
     "output_type": "stream",
     "text": [
      "Requirement already satisfied: pandas in /home/gitpod/.pyenv/versions/3.11.1/lib/python3.11/site-packages (1.5.3)\n",
      "Requirement already satisfied: python-dateutil>=2.8.1 in /home/gitpod/.pyenv/versions/3.11.1/lib/python3.11/site-packages (from pandas) (2.8.2)\n",
      "Requirement already satisfied: pytz>=2020.1 in /home/gitpod/.pyenv/versions/3.11.1/lib/python3.11/site-packages (from pandas) (2023.3)\n",
      "Requirement already satisfied: numpy>=1.21.0 in /home/gitpod/.pyenv/versions/3.11.1/lib/python3.11/site-packages (from pandas) (1.25.1)\n",
      "Requirement already satisfied: six>=1.5 in /home/gitpod/.pyenv/versions/3.11.1/lib/python3.11/site-packages (from python-dateutil>=2.8.1->pandas) (1.16.0)\n",
      "\n",
      "\u001b[1m[\u001b[0m\u001b[34;49mnotice\u001b[0m\u001b[1;39;49m]\u001b[0m\u001b[39;49m A new release of pip is available: \u001b[0m\u001b[31;49m23.0.1\u001b[0m\u001b[39;49m -> \u001b[0m\u001b[32;49m23.2\u001b[0m\n",
      "\u001b[1m[\u001b[0m\u001b[34;49mnotice\u001b[0m\u001b[1;39;49m]\u001b[0m\u001b[39;49m To update, run: \u001b[0m\u001b[32;49mpip install --upgrade pip\u001b[0m\n"
     ]
    }
   ],
   "source": [
    "! pip install pandas"
   ]
  },
  {
   "cell_type": "code",
   "execution_count": 5,
   "metadata": {},
   "outputs": [
    {
     "data": {
      "text/html": [
       "<div>\n",
       "<style scoped>\n",
       "    .dataframe tbody tr th:only-of-type {\n",
       "        vertical-align: middle;\n",
       "    }\n",
       "\n",
       "    .dataframe tbody tr th {\n",
       "        vertical-align: top;\n",
       "    }\n",
       "\n",
       "    .dataframe thead th {\n",
       "        text-align: right;\n",
       "    }\n",
       "</style>\n",
       "<table border=\"1\" class=\"dataframe\">\n",
       "  <thead>\n",
       "    <tr style=\"text-align: right;\">\n",
       "      <th></th>\n",
       "      <th>1stFlrSF</th>\n",
       "      <th>2ndFlrSF</th>\n",
       "      <th>BedroomAbvGr</th>\n",
       "      <th>BsmtExposure</th>\n",
       "      <th>BsmtFinSF1</th>\n",
       "      <th>BsmtFinType1</th>\n",
       "      <th>BsmtUnfSF</th>\n",
       "      <th>EnclosedPorch</th>\n",
       "      <th>GarageArea</th>\n",
       "      <th>GarageFinish</th>\n",
       "      <th>...</th>\n",
       "      <th>LotFrontage</th>\n",
       "      <th>MasVnrArea</th>\n",
       "      <th>OpenPorchSF</th>\n",
       "      <th>OverallCond</th>\n",
       "      <th>OverallQual</th>\n",
       "      <th>TotalBsmtSF</th>\n",
       "      <th>WoodDeckSF</th>\n",
       "      <th>YearBuilt</th>\n",
       "      <th>YearRemodAdd</th>\n",
       "      <th>SalePrice</th>\n",
       "    </tr>\n",
       "  </thead>\n",
       "  <tbody>\n",
       "    <tr>\n",
       "      <th>0</th>\n",
       "      <td>856.0</td>\n",
       "      <td>854.0</td>\n",
       "      <td>3.0</td>\n",
       "      <td>No</td>\n",
       "      <td>706.0</td>\n",
       "      <td>GLQ</td>\n",
       "      <td>150.0</td>\n",
       "      <td>0.0</td>\n",
       "      <td>548.0</td>\n",
       "      <td>RFn</td>\n",
       "      <td>...</td>\n",
       "      <td>65.0</td>\n",
       "      <td>196.0</td>\n",
       "      <td>61.0</td>\n",
       "      <td>5</td>\n",
       "      <td>7</td>\n",
       "      <td>856.0</td>\n",
       "      <td>0.0</td>\n",
       "      <td>2003</td>\n",
       "      <td>2003</td>\n",
       "      <td>208500.0</td>\n",
       "    </tr>\n",
       "    <tr>\n",
       "      <th>1</th>\n",
       "      <td>1262.0</td>\n",
       "      <td>0.0</td>\n",
       "      <td>3.0</td>\n",
       "      <td>Gd</td>\n",
       "      <td>978.0</td>\n",
       "      <td>ALQ</td>\n",
       "      <td>284.0</td>\n",
       "      <td>NaN</td>\n",
       "      <td>460.0</td>\n",
       "      <td>RFn</td>\n",
       "      <td>...</td>\n",
       "      <td>80.0</td>\n",
       "      <td>0.0</td>\n",
       "      <td>0.0</td>\n",
       "      <td>8</td>\n",
       "      <td>6</td>\n",
       "      <td>1262.0</td>\n",
       "      <td>NaN</td>\n",
       "      <td>1976</td>\n",
       "      <td>1976</td>\n",
       "      <td>181500.0</td>\n",
       "    </tr>\n",
       "    <tr>\n",
       "      <th>2</th>\n",
       "      <td>920.0</td>\n",
       "      <td>866.0</td>\n",
       "      <td>3.0</td>\n",
       "      <td>Mn</td>\n",
       "      <td>486.0</td>\n",
       "      <td>GLQ</td>\n",
       "      <td>434.0</td>\n",
       "      <td>0.0</td>\n",
       "      <td>608.0</td>\n",
       "      <td>RFn</td>\n",
       "      <td>...</td>\n",
       "      <td>68.0</td>\n",
       "      <td>162.0</td>\n",
       "      <td>42.0</td>\n",
       "      <td>5</td>\n",
       "      <td>7</td>\n",
       "      <td>920.0</td>\n",
       "      <td>NaN</td>\n",
       "      <td>2001</td>\n",
       "      <td>2002</td>\n",
       "      <td>223500.0</td>\n",
       "    </tr>\n",
       "  </tbody>\n",
       "</table>\n",
       "<p>3 rows × 24 columns</p>\n",
       "</div>"
      ],
      "text/plain": [
       "   1stFlrSF  2ndFlrSF  BedroomAbvGr BsmtExposure  BsmtFinSF1 BsmtFinType1  \\\n",
       "0     856.0     854.0           3.0           No       706.0          GLQ   \n",
       "1    1262.0       0.0           3.0           Gd       978.0          ALQ   \n",
       "2     920.0     866.0           3.0           Mn       486.0          GLQ   \n",
       "\n",
       "   BsmtUnfSF  EnclosedPorch  GarageArea GarageFinish  ...  LotFrontage  \\\n",
       "0      150.0            0.0       548.0          RFn  ...         65.0   \n",
       "1      284.0            NaN       460.0          RFn  ...         80.0   \n",
       "2      434.0            0.0       608.0          RFn  ...         68.0   \n",
       "\n",
       "   MasVnrArea OpenPorchSF  OverallCond  OverallQual  TotalBsmtSF  WoodDeckSF  \\\n",
       "0       196.0        61.0            5            7        856.0         0.0   \n",
       "1         0.0         0.0            8            6       1262.0         NaN   \n",
       "2       162.0        42.0            5            7        920.0         NaN   \n",
       "\n",
       "   YearBuilt  YearRemodAdd  SalePrice  \n",
       "0       2003          2003   208500.0  \n",
       "1       1976          1976   181500.0  \n",
       "2       2001          2002   223500.0  \n",
       "\n",
       "[3 rows x 24 columns]"
      ]
     },
     "execution_count": 5,
     "metadata": {},
     "output_type": "execute_result"
    }
   ],
   "source": [
    "import pandas as pd\n",
    "df = (pd.read_csv(\"outputs/datasets/collection/HousePricesRecords.csv\"))\n",
    "df.head(3)"
   ]
  },
  {
   "cell_type": "markdown",
   "metadata": {},
   "source": [
    "## Encode object variables:\n",
    "\n",
    "#### There is four object variables:\n",
    "\n",
    "**BsmtExposure:** Refers to walkout or garden level walls Gd: Good Exposure; Av: Average Exposure; Mn: Mimimum Exposure; No: No Exposure; None: No Basement\n",
    "\n",
    "**BsmtFinType1:** Rating of basement finished area GLQ: Good Living Quarters; ALQ: Average Living Quarters; BLQ: Below Average Living Quarters; Rec: Average Rec Room; LwQ: Low Quality; Unf: Unfinshed; None: No Basement\n",
    "\n",
    "**GarageFinish:** Interior finish of the garage Fin: Finished; RFn: Rough Finished; Unf: Unfinished; None: No Garage\n",
    "\n",
    "**KitchenQual:** Kitchen quality Ex: Excellent; Gd: Good; TA: Typical/Average; Fa: Fair; Po: Poor"
   ]
  },
  {
   "cell_type": "code",
   "execution_count": 6,
   "metadata": {},
   "outputs": [
    {
     "data": {
      "text/html": [
       "<div>\n",
       "<style scoped>\n",
       "    .dataframe tbody tr th:only-of-type {\n",
       "        vertical-align: middle;\n",
       "    }\n",
       "\n",
       "    .dataframe tbody tr th {\n",
       "        vertical-align: top;\n",
       "    }\n",
       "\n",
       "    .dataframe thead th {\n",
       "        text-align: right;\n",
       "    }\n",
       "</style>\n",
       "<table border=\"1\" class=\"dataframe\">\n",
       "  <thead>\n",
       "    <tr style=\"text-align: right;\">\n",
       "      <th></th>\n",
       "      <th>1stFlrSF</th>\n",
       "      <th>2ndFlrSF</th>\n",
       "      <th>BedroomAbvGr</th>\n",
       "      <th>BsmtExposure</th>\n",
       "      <th>BsmtFinSF1</th>\n",
       "      <th>BsmtFinType1</th>\n",
       "      <th>BsmtUnfSF</th>\n",
       "      <th>EnclosedPorch</th>\n",
       "      <th>GarageArea</th>\n",
       "      <th>GarageFinish</th>\n",
       "      <th>...</th>\n",
       "      <th>LotFrontage</th>\n",
       "      <th>MasVnrArea</th>\n",
       "      <th>OpenPorchSF</th>\n",
       "      <th>OverallCond</th>\n",
       "      <th>OverallQual</th>\n",
       "      <th>TotalBsmtSF</th>\n",
       "      <th>WoodDeckSF</th>\n",
       "      <th>YearBuilt</th>\n",
       "      <th>YearRemodAdd</th>\n",
       "      <th>SalePrice</th>\n",
       "    </tr>\n",
       "  </thead>\n",
       "  <tbody>\n",
       "    <tr>\n",
       "      <th>0</th>\n",
       "      <td>856.0</td>\n",
       "      <td>854.0</td>\n",
       "      <td>3.0</td>\n",
       "      <td>1.0</td>\n",
       "      <td>706.0</td>\n",
       "      <td>6.0</td>\n",
       "      <td>150.0</td>\n",
       "      <td>0.0</td>\n",
       "      <td>548.0</td>\n",
       "      <td>2.0</td>\n",
       "      <td>...</td>\n",
       "      <td>65.0</td>\n",
       "      <td>196.0</td>\n",
       "      <td>61.0</td>\n",
       "      <td>5</td>\n",
       "      <td>7</td>\n",
       "      <td>856.0</td>\n",
       "      <td>0.0</td>\n",
       "      <td>2003</td>\n",
       "      <td>2003</td>\n",
       "      <td>208500.0</td>\n",
       "    </tr>\n",
       "    <tr>\n",
       "      <th>1</th>\n",
       "      <td>1262.0</td>\n",
       "      <td>0.0</td>\n",
       "      <td>3.0</td>\n",
       "      <td>4.0</td>\n",
       "      <td>978.0</td>\n",
       "      <td>5.0</td>\n",
       "      <td>284.0</td>\n",
       "      <td>NaN</td>\n",
       "      <td>460.0</td>\n",
       "      <td>2.0</td>\n",
       "      <td>...</td>\n",
       "      <td>80.0</td>\n",
       "      <td>0.0</td>\n",
       "      <td>0.0</td>\n",
       "      <td>8</td>\n",
       "      <td>6</td>\n",
       "      <td>1262.0</td>\n",
       "      <td>NaN</td>\n",
       "      <td>1976</td>\n",
       "      <td>1976</td>\n",
       "      <td>181500.0</td>\n",
       "    </tr>\n",
       "    <tr>\n",
       "      <th>2</th>\n",
       "      <td>920.0</td>\n",
       "      <td>866.0</td>\n",
       "      <td>3.0</td>\n",
       "      <td>2.0</td>\n",
       "      <td>486.0</td>\n",
       "      <td>6.0</td>\n",
       "      <td>434.0</td>\n",
       "      <td>0.0</td>\n",
       "      <td>608.0</td>\n",
       "      <td>2.0</td>\n",
       "      <td>...</td>\n",
       "      <td>68.0</td>\n",
       "      <td>162.0</td>\n",
       "      <td>42.0</td>\n",
       "      <td>5</td>\n",
       "      <td>7</td>\n",
       "      <td>920.0</td>\n",
       "      <td>NaN</td>\n",
       "      <td>2001</td>\n",
       "      <td>2002</td>\n",
       "      <td>223500.0</td>\n",
       "    </tr>\n",
       "    <tr>\n",
       "      <th>3</th>\n",
       "      <td>961.0</td>\n",
       "      <td>NaN</td>\n",
       "      <td>NaN</td>\n",
       "      <td>1.0</td>\n",
       "      <td>216.0</td>\n",
       "      <td>5.0</td>\n",
       "      <td>540.0</td>\n",
       "      <td>NaN</td>\n",
       "      <td>642.0</td>\n",
       "      <td>1.0</td>\n",
       "      <td>...</td>\n",
       "      <td>60.0</td>\n",
       "      <td>0.0</td>\n",
       "      <td>35.0</td>\n",
       "      <td>5</td>\n",
       "      <td>7</td>\n",
       "      <td>756.0</td>\n",
       "      <td>NaN</td>\n",
       "      <td>1915</td>\n",
       "      <td>1970</td>\n",
       "      <td>140000.0</td>\n",
       "    </tr>\n",
       "    <tr>\n",
       "      <th>4</th>\n",
       "      <td>1145.0</td>\n",
       "      <td>NaN</td>\n",
       "      <td>4.0</td>\n",
       "      <td>3.0</td>\n",
       "      <td>655.0</td>\n",
       "      <td>6.0</td>\n",
       "      <td>490.0</td>\n",
       "      <td>0.0</td>\n",
       "      <td>836.0</td>\n",
       "      <td>2.0</td>\n",
       "      <td>...</td>\n",
       "      <td>84.0</td>\n",
       "      <td>350.0</td>\n",
       "      <td>84.0</td>\n",
       "      <td>5</td>\n",
       "      <td>8</td>\n",
       "      <td>1145.0</td>\n",
       "      <td>NaN</td>\n",
       "      <td>2000</td>\n",
       "      <td>2000</td>\n",
       "      <td>250000.0</td>\n",
       "    </tr>\n",
       "  </tbody>\n",
       "</table>\n",
       "<p>5 rows × 24 columns</p>\n",
       "</div>"
      ],
      "text/plain": [
       "   1stFlrSF  2ndFlrSF  BedroomAbvGr  BsmtExposure  BsmtFinSF1  BsmtFinType1  \\\n",
       "0     856.0     854.0           3.0           1.0       706.0           6.0   \n",
       "1    1262.0       0.0           3.0           4.0       978.0           5.0   \n",
       "2     920.0     866.0           3.0           2.0       486.0           6.0   \n",
       "3     961.0       NaN           NaN           1.0       216.0           5.0   \n",
       "4    1145.0       NaN           4.0           3.0       655.0           6.0   \n",
       "\n",
       "   BsmtUnfSF  EnclosedPorch  GarageArea  GarageFinish  ...  LotFrontage  \\\n",
       "0      150.0            0.0       548.0           2.0  ...         65.0   \n",
       "1      284.0            NaN       460.0           2.0  ...         80.0   \n",
       "2      434.0            0.0       608.0           2.0  ...         68.0   \n",
       "3      540.0            NaN       642.0           1.0  ...         60.0   \n",
       "4      490.0            0.0       836.0           2.0  ...         84.0   \n",
       "\n",
       "   MasVnrArea  OpenPorchSF  OverallCond  OverallQual  TotalBsmtSF  WoodDeckSF  \\\n",
       "0       196.0         61.0            5            7        856.0         0.0   \n",
       "1         0.0          0.0            8            6       1262.0         NaN   \n",
       "2       162.0         42.0            5            7        920.0         NaN   \n",
       "3         0.0         35.0            5            7        756.0         NaN   \n",
       "4       350.0         84.0            5            8       1145.0         NaN   \n",
       "\n",
       "   YearBuilt  YearRemodAdd  SalePrice  \n",
       "0       2003          2003   208500.0  \n",
       "1       1976          1976   181500.0  \n",
       "2       2001          2002   223500.0  \n",
       "3       1915          1970   140000.0  \n",
       "4       2000          2000   250000.0  \n",
       "\n",
       "[5 rows x 24 columns]"
      ]
     },
     "execution_count": 6,
     "metadata": {},
     "output_type": "execute_result"
    }
   ],
   "source": [
    "# Dictionary to map the categories of the four object variables to numbers.\n",
    "# It maps None to zero in contrast to the dictionary used in the HouseSalePrices\n",
    "# notebook where we discarded None values.\n",
    "dic = {'BsmtExposure': {'Gd': 4, 'Av': 3, 'Mn': 2, 'No': 1, 'None': 0}, 'BsmtFinType1': {'GLQ': 6, 'ALQ': 5, 'BLQ': 4, 'Rec': 3, 'LwQ': 2, 'Unf': 1, 'None': 0}, 'GarageFinish': {'Fin': 3, 'RFn': 2, 'Unf': 1, 'None': 0}, 'KitchenQual': {'Ex': 4, 'Gd': 3, 'TA': 2, 'Fa': 1, 'Po': 0}}\n",
    "df2=df.copy()\n",
    "for col in df.columns[df.dtypes=='object'].to_list():\n",
    "    df2[col] = df2[col].replace(dic[col])\n",
    "df2.head()"
   ]
  },
  {
   "cell_type": "markdown",
   "metadata": {},
   "source": [
    "### Perform the same encoding as above but with a custom transformer that can be used in a pipeline"
   ]
  },
  {
   "cell_type": "code",
   "execution_count": 7,
   "metadata": {},
   "outputs": [
    {
     "name": "stdout",
     "output_type": "stream",
     "text": [
      "Requirement already satisfied: scikit-learn in /home/gitpod/.pyenv/versions/3.11.1/lib/python3.11/site-packages (1.3.0)\n",
      "Requirement already satisfied: numpy>=1.17.3 in /home/gitpod/.pyenv/versions/3.11.1/lib/python3.11/site-packages (from scikit-learn) (1.25.1)\n",
      "Requirement already satisfied: scipy>=1.5.0 in /home/gitpod/.pyenv/versions/3.11.1/lib/python3.11/site-packages (from scikit-learn) (1.11.1)\n",
      "Requirement already satisfied: joblib>=1.1.1 in /home/gitpod/.pyenv/versions/3.11.1/lib/python3.11/site-packages (from scikit-learn) (1.1.1)\n",
      "Requirement already satisfied: threadpoolctl>=2.0.0 in /home/gitpod/.pyenv/versions/3.11.1/lib/python3.11/site-packages (from scikit-learn) (3.2.0)\n",
      "\n",
      "\u001b[1m[\u001b[0m\u001b[34;49mnotice\u001b[0m\u001b[1;39;49m]\u001b[0m\u001b[39;49m A new release of pip is available: \u001b[0m\u001b[31;49m23.0.1\u001b[0m\u001b[39;49m -> \u001b[0m\u001b[32;49m23.2\u001b[0m\n",
      "\u001b[1m[\u001b[0m\u001b[34;49mnotice\u001b[0m\u001b[1;39;49m]\u001b[0m\u001b[39;49m To update, run: \u001b[0m\u001b[32;49mpip install --upgrade pip\u001b[0m\n"
     ]
    }
   ],
   "source": [
    "! pip install scikit-learn"
   ]
  },
  {
   "cell_type": "code",
   "execution_count": 8,
   "metadata": {},
   "outputs": [
    {
     "data": {
      "text/html": [
       "<div>\n",
       "<style scoped>\n",
       "    .dataframe tbody tr th:only-of-type {\n",
       "        vertical-align: middle;\n",
       "    }\n",
       "\n",
       "    .dataframe tbody tr th {\n",
       "        vertical-align: top;\n",
       "    }\n",
       "\n",
       "    .dataframe thead th {\n",
       "        text-align: right;\n",
       "    }\n",
       "</style>\n",
       "<table border=\"1\" class=\"dataframe\">\n",
       "  <thead>\n",
       "    <tr style=\"text-align: right;\">\n",
       "      <th></th>\n",
       "      <th>1stFlrSF</th>\n",
       "      <th>2ndFlrSF</th>\n",
       "      <th>BedroomAbvGr</th>\n",
       "      <th>BsmtExposure</th>\n",
       "      <th>BsmtFinSF1</th>\n",
       "      <th>BsmtFinType1</th>\n",
       "      <th>BsmtUnfSF</th>\n",
       "      <th>EnclosedPorch</th>\n",
       "      <th>GarageArea</th>\n",
       "      <th>GarageFinish</th>\n",
       "      <th>...</th>\n",
       "      <th>LotFrontage</th>\n",
       "      <th>MasVnrArea</th>\n",
       "      <th>OpenPorchSF</th>\n",
       "      <th>OverallCond</th>\n",
       "      <th>OverallQual</th>\n",
       "      <th>TotalBsmtSF</th>\n",
       "      <th>WoodDeckSF</th>\n",
       "      <th>YearBuilt</th>\n",
       "      <th>YearRemodAdd</th>\n",
       "      <th>SalePrice</th>\n",
       "    </tr>\n",
       "  </thead>\n",
       "  <tbody>\n",
       "    <tr>\n",
       "      <th>0</th>\n",
       "      <td>856.0</td>\n",
       "      <td>854.0</td>\n",
       "      <td>3.0</td>\n",
       "      <td>1.0</td>\n",
       "      <td>706.0</td>\n",
       "      <td>6.0</td>\n",
       "      <td>150.0</td>\n",
       "      <td>0.0</td>\n",
       "      <td>548.0</td>\n",
       "      <td>2.0</td>\n",
       "      <td>...</td>\n",
       "      <td>65.0</td>\n",
       "      <td>196.0</td>\n",
       "      <td>61.0</td>\n",
       "      <td>5</td>\n",
       "      <td>7</td>\n",
       "      <td>856.0</td>\n",
       "      <td>0.0</td>\n",
       "      <td>2003</td>\n",
       "      <td>2003</td>\n",
       "      <td>208500.0</td>\n",
       "    </tr>\n",
       "    <tr>\n",
       "      <th>1</th>\n",
       "      <td>1262.0</td>\n",
       "      <td>0.0</td>\n",
       "      <td>3.0</td>\n",
       "      <td>4.0</td>\n",
       "      <td>978.0</td>\n",
       "      <td>5.0</td>\n",
       "      <td>284.0</td>\n",
       "      <td>NaN</td>\n",
       "      <td>460.0</td>\n",
       "      <td>2.0</td>\n",
       "      <td>...</td>\n",
       "      <td>80.0</td>\n",
       "      <td>0.0</td>\n",
       "      <td>0.0</td>\n",
       "      <td>8</td>\n",
       "      <td>6</td>\n",
       "      <td>1262.0</td>\n",
       "      <td>NaN</td>\n",
       "      <td>1976</td>\n",
       "      <td>1976</td>\n",
       "      <td>181500.0</td>\n",
       "    </tr>\n",
       "    <tr>\n",
       "      <th>2</th>\n",
       "      <td>920.0</td>\n",
       "      <td>866.0</td>\n",
       "      <td>3.0</td>\n",
       "      <td>2.0</td>\n",
       "      <td>486.0</td>\n",
       "      <td>6.0</td>\n",
       "      <td>434.0</td>\n",
       "      <td>0.0</td>\n",
       "      <td>608.0</td>\n",
       "      <td>2.0</td>\n",
       "      <td>...</td>\n",
       "      <td>68.0</td>\n",
       "      <td>162.0</td>\n",
       "      <td>42.0</td>\n",
       "      <td>5</td>\n",
       "      <td>7</td>\n",
       "      <td>920.0</td>\n",
       "      <td>NaN</td>\n",
       "      <td>2001</td>\n",
       "      <td>2002</td>\n",
       "      <td>223500.0</td>\n",
       "    </tr>\n",
       "  </tbody>\n",
       "</table>\n",
       "<p>3 rows × 24 columns</p>\n",
       "</div>"
      ],
      "text/plain": [
       "   1stFlrSF  2ndFlrSF  BedroomAbvGr  BsmtExposure  BsmtFinSF1  BsmtFinType1  \\\n",
       "0     856.0     854.0           3.0           1.0       706.0           6.0   \n",
       "1    1262.0       0.0           3.0           4.0       978.0           5.0   \n",
       "2     920.0     866.0           3.0           2.0       486.0           6.0   \n",
       "\n",
       "   BsmtUnfSF  EnclosedPorch  GarageArea  GarageFinish  ...  LotFrontage  \\\n",
       "0      150.0            0.0       548.0           2.0  ...         65.0   \n",
       "1      284.0            NaN       460.0           2.0  ...         80.0   \n",
       "2      434.0            0.0       608.0           2.0  ...         68.0   \n",
       "\n",
       "   MasVnrArea  OpenPorchSF  OverallCond  OverallQual  TotalBsmtSF  WoodDeckSF  \\\n",
       "0       196.0         61.0            5            7        856.0         0.0   \n",
       "1         0.0          0.0            8            6       1262.0         NaN   \n",
       "2       162.0         42.0            5            7        920.0         NaN   \n",
       "\n",
       "   YearBuilt  YearRemodAdd  SalePrice  \n",
       "0       2003          2003   208500.0  \n",
       "1       1976          1976   181500.0  \n",
       "2       2001          2002   223500.0  \n",
       "\n",
       "[3 rows x 24 columns]"
      ]
     },
     "execution_count": 8,
     "metadata": {},
     "output_type": "execute_result"
    }
   ],
   "source": [
    "from sklearn.base import BaseEstimator, TransformerMixin\n",
    "# create a Class variable with a fit and transform method\n",
    "class MyCustomEncoder(BaseEstimator, TransformerMixin):\n",
    "\n",
    "  def __init__(self, variables, dic):\n",
    "    if not isinstance(variables, list): \n",
    "      self.variables = [variables]\n",
    "    else: self.variables = variables\n",
    "    self.dic = dic\n",
    "\n",
    "  def fit(self, X, y=None):    \n",
    "    return self\n",
    "\n",
    "  def transform(self, X):\n",
    "    for col in self.variables:\n",
    "      if X[col].dtype == 'object':\n",
    "        X[col] = X[col].replace(dic[col])\n",
    "      else:\n",
    "        print(f\"Warning: {col} data type should be object to use MyCustomEncoder()\")\n",
    "      \n",
    "    return X\n",
    "\n",
    "# use the custom encoder in a pipeline\n",
    "from sklearn.pipeline import Pipeline\n",
    "pipeline = Pipeline([('custom_encoder', MyCustomEncoder(variables=['BsmtExposure', 'BsmtFinType1', 'GarageFinish', 'KitchenQual'], dic=dic))])\n",
    "\n",
    "df2 = df.copy()\n",
    "df2 = pipeline.fit_transform(df2)\n",
    "df2.head(3)"
   ]
  },
  {
   "cell_type": "markdown",
   "metadata": {},
   "source": [
    "## Missing data\n",
    "\n",
    "* Find out which variables have missing data"
   ]
  },
  {
   "cell_type": "code",
   "execution_count": 9,
   "metadata": {},
   "outputs": [
    {
     "data": {
      "text/plain": [
       "['2ndFlrSF',\n",
       " 'BedroomAbvGr',\n",
       " 'BsmtExposure',\n",
       " 'BsmtFinType1',\n",
       " 'EnclosedPorch',\n",
       " 'GarageFinish',\n",
       " 'GarageYrBlt',\n",
       " 'LotFrontage',\n",
       " 'MasVnrArea',\n",
       " 'WoodDeckSF']"
      ]
     },
     "execution_count": 9,
     "metadata": {},
     "output_type": "execute_result"
    }
   ],
   "source": [
    "vars_with_missing_data = df.columns[df.isna().sum() > 0].to_list()\n",
    "vars_with_missing_data"
   ]
  },
  {
   "cell_type": "markdown",
   "metadata": {},
   "source": [
    "#### Explore the variables with missing data"
   ]
  },
  {
   "cell_type": "code",
   "execution_count": 19,
   "metadata": {},
   "outputs": [
    {
     "name": "stdout",
     "output_type": "stream",
     "text": [
      "Requirement already satisfied: pandas_profiling in /home/gitpod/.pyenv/versions/3.11.1/lib/python3.11/site-packages (3.2.0)\n",
      "Requirement already satisfied: joblib~=1.1.0 in /home/gitpod/.pyenv/versions/3.11.1/lib/python3.11/site-packages (from pandas_profiling) (1.1.1)\n",
      "Requirement already satisfied: scipy>=1.4.1 in /home/gitpod/.pyenv/versions/3.11.1/lib/python3.11/site-packages (from pandas_profiling) (1.11.1)\n",
      "Requirement already satisfied: pandas!=1.0.0,!=1.0.1,!=1.0.2,!=1.1.0,>=0.25.3 in /home/gitpod/.pyenv/versions/3.11.1/lib/python3.11/site-packages (from pandas_profiling) (1.5.3)\n",
      "Requirement already satisfied: matplotlib>=3.2.0 in /home/gitpod/.pyenv/versions/3.11.1/lib/python3.11/site-packages (from pandas_profiling) (3.7.2)\n",
      "Requirement already satisfied: pydantic>=1.8.1 in /home/gitpod/.pyenv/versions/3.11.1/lib/python3.11/site-packages (from pandas_profiling) (2.0.3)\n",
      "Requirement already satisfied: PyYAML>=5.0.0 in /home/gitpod/.pyenv/versions/3.11.1/lib/python3.11/site-packages (from pandas_profiling) (6.0)\n",
      "Requirement already satisfied: jinja2>=2.11.1 in /home/gitpod/.pyenv/versions/3.11.1/lib/python3.11/site-packages (from pandas_profiling) (3.1.2)\n",
      "Requirement already satisfied: markupsafe~=2.1.1 in /home/gitpod/.pyenv/versions/3.11.1/lib/python3.11/site-packages (from pandas_profiling) (2.1.2)\n",
      "Requirement already satisfied: visions[type_image_path]==0.7.4 in /home/gitpod/.pyenv/versions/3.11.1/lib/python3.11/site-packages (from pandas_profiling) (0.7.4)\n",
      "Requirement already satisfied: numpy>=1.16.0 in /home/gitpod/.pyenv/versions/3.11.1/lib/python3.11/site-packages (from pandas_profiling) (1.25.1)\n",
      "Requirement already satisfied: htmlmin>=0.1.12 in /home/gitpod/.pyenv/versions/3.11.1/lib/python3.11/site-packages (from pandas_profiling) (0.1.12)\n",
      "Requirement already satisfied: missingno>=0.4.2 in /home/gitpod/.pyenv/versions/3.11.1/lib/python3.11/site-packages (from pandas_profiling) (0.5.2)\n",
      "Requirement already satisfied: phik>=0.11.1 in /home/gitpod/.pyenv/versions/3.11.1/lib/python3.11/site-packages (from pandas_profiling) (0.12.3)\n",
      "Requirement already satisfied: tangled-up-in-unicode==0.2.0 in /home/gitpod/.pyenv/versions/3.11.1/lib/python3.11/site-packages (from pandas_profiling) (0.2.0)\n",
      "Requirement already satisfied: requests>=2.24.0 in /home/gitpod/.pyenv/versions/3.11.1/lib/python3.11/site-packages (from pandas_profiling) (2.28.2)\n",
      "Requirement already satisfied: tqdm>=4.48.2 in /home/gitpod/.pyenv/versions/3.11.1/lib/python3.11/site-packages (from pandas_profiling) (4.65.0)\n",
      "Requirement already satisfied: seaborn>=0.10.1 in /home/gitpod/.pyenv/versions/3.11.1/lib/python3.11/site-packages (from pandas_profiling) (0.12.2)\n",
      "Requirement already satisfied: multimethod>=1.4 in /home/gitpod/.pyenv/versions/3.11.1/lib/python3.11/site-packages (from pandas_profiling) (1.9.1)\n",
      "Requirement already satisfied: attrs>=19.3.0 in /home/gitpod/.pyenv/versions/3.11.1/lib/python3.11/site-packages (from visions[type_image_path]==0.7.4->pandas_profiling) (22.2.0)\n",
      "Requirement already satisfied: networkx>=2.4 in /home/gitpod/.pyenv/versions/3.11.1/lib/python3.11/site-packages (from visions[type_image_path]==0.7.4->pandas_profiling) (3.1)\n",
      "Requirement already satisfied: imagehash in /home/gitpod/.pyenv/versions/3.11.1/lib/python3.11/site-packages (from visions[type_image_path]==0.7.4->pandas_profiling) (4.3.1)\n",
      "Requirement already satisfied: Pillow in /home/gitpod/.pyenv/versions/3.11.1/lib/python3.11/site-packages (from visions[type_image_path]==0.7.4->pandas_profiling) (9.5.0)\n",
      "Requirement already satisfied: contourpy>=1.0.1 in /home/gitpod/.pyenv/versions/3.11.1/lib/python3.11/site-packages (from matplotlib>=3.2.0->pandas_profiling) (1.1.0)\n",
      "Requirement already satisfied: cycler>=0.10 in /home/gitpod/.pyenv/versions/3.11.1/lib/python3.11/site-packages (from matplotlib>=3.2.0->pandas_profiling) (0.11.0)\n",
      "Requirement already satisfied: fonttools>=4.22.0 in /home/gitpod/.pyenv/versions/3.11.1/lib/python3.11/site-packages (from matplotlib>=3.2.0->pandas_profiling) (4.41.0)\n",
      "Requirement already satisfied: kiwisolver>=1.0.1 in /home/gitpod/.pyenv/versions/3.11.1/lib/python3.11/site-packages (from matplotlib>=3.2.0->pandas_profiling) (1.4.4)\n",
      "Requirement already satisfied: packaging>=20.0 in /home/gitpod/.pyenv/versions/3.11.1/lib/python3.11/site-packages (from matplotlib>=3.2.0->pandas_profiling) (23.0)\n",
      "Requirement already satisfied: pyparsing<3.1,>=2.3.1 in /home/gitpod/.pyenv/versions/3.11.1/lib/python3.11/site-packages (from matplotlib>=3.2.0->pandas_profiling) (3.0.9)\n",
      "Requirement already satisfied: python-dateutil>=2.7 in /home/gitpod/.pyenv/versions/3.11.1/lib/python3.11/site-packages (from matplotlib>=3.2.0->pandas_profiling) (2.8.2)\n",
      "Requirement already satisfied: pytz>=2020.1 in /home/gitpod/.pyenv/versions/3.11.1/lib/python3.11/site-packages (from pandas!=1.0.0,!=1.0.1,!=1.0.2,!=1.1.0,>=0.25.3->pandas_profiling) (2023.3)\n",
      "Requirement already satisfied: annotated-types>=0.4.0 in /home/gitpod/.pyenv/versions/3.11.1/lib/python3.11/site-packages (from pydantic>=1.8.1->pandas_profiling) (0.5.0)\n",
      "Requirement already satisfied: pydantic-core==2.3.0 in /home/gitpod/.pyenv/versions/3.11.1/lib/python3.11/site-packages (from pydantic>=1.8.1->pandas_profiling) (2.3.0)\n",
      "Requirement already satisfied: typing-extensions>=4.6.1 in /home/gitpod/.pyenv/versions/3.11.1/lib/python3.11/site-packages (from pydantic>=1.8.1->pandas_profiling) (4.7.1)\n",
      "Requirement already satisfied: charset-normalizer<4,>=2 in /home/gitpod/.pyenv/versions/3.11.1/lib/python3.11/site-packages (from requests>=2.24.0->pandas_profiling) (3.1.0)\n",
      "Requirement already satisfied: idna<4,>=2.5 in /home/gitpod/.pyenv/versions/3.11.1/lib/python3.11/site-packages (from requests>=2.24.0->pandas_profiling) (3.4)\n",
      "Requirement already satisfied: urllib3<1.27,>=1.21.1 in /home/gitpod/.pyenv/versions/3.11.1/lib/python3.11/site-packages (from requests>=2.24.0->pandas_profiling) (1.26.15)\n",
      "Requirement already satisfied: certifi>=2017.4.17 in /home/gitpod/.pyenv/versions/3.11.1/lib/python3.11/site-packages (from requests>=2.24.0->pandas_profiling) (2022.12.7)\n",
      "Requirement already satisfied: six>=1.5 in /home/gitpod/.pyenv/versions/3.11.1/lib/python3.11/site-packages (from python-dateutil>=2.7->matplotlib>=3.2.0->pandas_profiling) (1.16.0)\n",
      "Requirement already satisfied: PyWavelets in /home/gitpod/.pyenv/versions/3.11.1/lib/python3.11/site-packages (from imagehash->visions[type_image_path]==0.7.4->pandas_profiling) (1.4.1)\n",
      "\n",
      "\u001b[1m[\u001b[0m\u001b[34;49mnotice\u001b[0m\u001b[1;39;49m]\u001b[0m\u001b[39;49m A new release of pip is available: \u001b[0m\u001b[31;49m23.0.1\u001b[0m\u001b[39;49m -> \u001b[0m\u001b[32;49m23.2\u001b[0m\n",
      "\u001b[1m[\u001b[0m\u001b[34;49mnotice\u001b[0m\u001b[1;39;49m]\u001b[0m\u001b[39;49m To update, run: \u001b[0m\u001b[32;49mpip install --upgrade pip\u001b[0m\n"
     ]
    }
   ],
   "source": [
    "! pip install pandas_profiling"
   ]
  },
  {
   "cell_type": "code",
   "execution_count": 20,
   "metadata": {},
   "outputs": [
    {
     "ename": "PydanticImportError",
     "evalue": "`BaseSettings` has been moved to the `pydantic-settings` package. See https://docs.pydantic.dev/2.0.3/migration/#basesettings-has-moved-to-pydantic-settings for more details.\n\nFor further information visit https://errors.pydantic.dev/2.0.3/u/import-error",
     "output_type": "error",
     "traceback": [
      "\u001b[0;31m---------------------------------------------------------------------------\u001b[0m",
      "\u001b[0;31mPydanticImportError\u001b[0m                       Traceback (most recent call last)",
      "Cell \u001b[0;32mIn[20], line 1\u001b[0m\n\u001b[0;32m----> 1\u001b[0m \u001b[39mfrom\u001b[39;00m \u001b[39mpandas_profiling\u001b[39;00m \u001b[39mimport\u001b[39;00m ProfileReport\n\u001b[1;32m      2\u001b[0m profile \u001b[39m=\u001b[39m ProfileReport(df\u001b[39m=\u001b[39mdf[vars_with_missing_data], minimal\u001b[39m=\u001b[39m\u001b[39mTrue\u001b[39;00m)\n\u001b[1;32m      3\u001b[0m profile\u001b[39m.\u001b[39mto_notebook_iframe()\n",
      "File \u001b[0;32m~/.pyenv/versions/3.11.1/lib/python3.11/site-packages/pandas_profiling/__init__.py:6\u001b[0m\n\u001b[1;32m      1\u001b[0m \u001b[39m\"\"\"Main module of pandas-profiling.\u001b[39;00m\n\u001b[1;32m      2\u001b[0m \n\u001b[1;32m      3\u001b[0m \u001b[39m.. include:: ../../README.md\u001b[39;00m\n\u001b[1;32m      4\u001b[0m \u001b[39m\"\"\"\u001b[39;00m\n\u001b[0;32m----> 6\u001b[0m \u001b[39mfrom\u001b[39;00m \u001b[39mpandas_profiling\u001b[39;00m\u001b[39m.\u001b[39;00m\u001b[39mcontroller\u001b[39;00m \u001b[39mimport\u001b[39;00m pandas_decorator\n\u001b[1;32m      7\u001b[0m \u001b[39mfrom\u001b[39;00m \u001b[39mpandas_profiling\u001b[39;00m\u001b[39m.\u001b[39;00m\u001b[39mprofile_report\u001b[39;00m \u001b[39mimport\u001b[39;00m ProfileReport\n\u001b[1;32m      8\u001b[0m \u001b[39mfrom\u001b[39;00m \u001b[39mpandas_profiling\u001b[39;00m\u001b[39m.\u001b[39;00m\u001b[39mversion\u001b[39;00m \u001b[39mimport\u001b[39;00m __version__\n",
      "File \u001b[0;32m~/.pyenv/versions/3.11.1/lib/python3.11/site-packages/pandas_profiling/controller/pandas_decorator.py:4\u001b[0m\n\u001b[1;32m      1\u001b[0m \u001b[39m\"\"\"This file add the decorator on the DataFrame object.\"\"\"\u001b[39;00m\n\u001b[1;32m      2\u001b[0m \u001b[39mfrom\u001b[39;00m \u001b[39mpandas\u001b[39;00m \u001b[39mimport\u001b[39;00m DataFrame\n\u001b[0;32m----> 4\u001b[0m \u001b[39mfrom\u001b[39;00m \u001b[39mpandas_profiling\u001b[39;00m\u001b[39m.\u001b[39;00m\u001b[39mprofile_report\u001b[39;00m \u001b[39mimport\u001b[39;00m ProfileReport\n\u001b[1;32m      7\u001b[0m \u001b[39mdef\u001b[39;00m \u001b[39mprofile_report\u001b[39m(df: DataFrame, \u001b[39m*\u001b[39m\u001b[39m*\u001b[39mkwargs) \u001b[39m-\u001b[39m\u001b[39m>\u001b[39m ProfileReport:\n\u001b[1;32m      8\u001b[0m \u001b[39m    \u001b[39m\u001b[39m\"\"\"Profile a DataFrame.\u001b[39;00m\n\u001b[1;32m      9\u001b[0m \n\u001b[1;32m     10\u001b[0m \u001b[39m    Args:\u001b[39;00m\n\u001b[0;32m   (...)\u001b[0m\n\u001b[1;32m     15\u001b[0m \u001b[39m        A ProfileReport of the DataFrame.\u001b[39;00m\n\u001b[1;32m     16\u001b[0m \u001b[39m    \"\"\"\u001b[39;00m\n",
      "File \u001b[0;32m~/.pyenv/versions/3.11.1/lib/python3.11/site-packages/pandas_profiling/profile_report.py:13\u001b[0m\n\u001b[1;32m     10\u001b[0m \u001b[39mfrom\u001b[39;00m \u001b[39mtqdm\u001b[39;00m\u001b[39m.\u001b[39;00m\u001b[39mauto\u001b[39;00m \u001b[39mimport\u001b[39;00m tqdm\n\u001b[1;32m     11\u001b[0m \u001b[39mfrom\u001b[39;00m \u001b[39mvisions\u001b[39;00m \u001b[39mimport\u001b[39;00m VisionsTypeset\n\u001b[0;32m---> 13\u001b[0m \u001b[39mfrom\u001b[39;00m \u001b[39mpandas_profiling\u001b[39;00m\u001b[39m.\u001b[39;00m\u001b[39mconfig\u001b[39;00m \u001b[39mimport\u001b[39;00m Config, Settings\n\u001b[1;32m     14\u001b[0m \u001b[39mfrom\u001b[39;00m \u001b[39mpandas_profiling\u001b[39;00m\u001b[39m.\u001b[39;00m\u001b[39mexpectations_report\u001b[39;00m \u001b[39mimport\u001b[39;00m ExpectationsReport\n\u001b[1;32m     15\u001b[0m \u001b[39mfrom\u001b[39;00m \u001b[39mpandas_profiling\u001b[39;00m\u001b[39m.\u001b[39;00m\u001b[39mmodel\u001b[39;00m\u001b[39m.\u001b[39;00m\u001b[39malerts\u001b[39;00m \u001b[39mimport\u001b[39;00m AlertType\n",
      "File \u001b[0;32m~/.pyenv/versions/3.11.1/lib/python3.11/site-packages/pandas_profiling/config.py:5\u001b[0m\n\u001b[1;32m      2\u001b[0m \u001b[39mfrom\u001b[39;00m \u001b[39menum\u001b[39;00m \u001b[39mimport\u001b[39;00m Enum\n\u001b[1;32m      3\u001b[0m \u001b[39mfrom\u001b[39;00m \u001b[39mtyping\u001b[39;00m \u001b[39mimport\u001b[39;00m Any, Dict, List, Optional\n\u001b[0;32m----> 5\u001b[0m \u001b[39mfrom\u001b[39;00m \u001b[39mpydantic\u001b[39;00m \u001b[39mimport\u001b[39;00m BaseModel, BaseSettings, Field\n\u001b[1;32m      8\u001b[0m \u001b[39mdef\u001b[39;00m \u001b[39m_merge_dictionaries\u001b[39m(dict1: \u001b[39mdict\u001b[39m, dict2: \u001b[39mdict\u001b[39m) \u001b[39m-\u001b[39m\u001b[39m>\u001b[39m \u001b[39mdict\u001b[39m:\n\u001b[1;32m      9\u001b[0m \u001b[39m    \u001b[39m\u001b[39m\"\"\"\u001b[39;00m\n\u001b[1;32m     10\u001b[0m \u001b[39m    Recursive merge dictionaries.\u001b[39;00m\n\u001b[1;32m     11\u001b[0m \n\u001b[0;32m   (...)\u001b[0m\n\u001b[1;32m     14\u001b[0m \u001b[39m    :return: Merged dictionary\u001b[39;00m\n\u001b[1;32m     15\u001b[0m \u001b[39m    \"\"\"\u001b[39;00m\n",
      "File \u001b[0;32m~/.pyenv/versions/3.11.1/lib/python3.11/site-packages/pydantic/__init__.py:207\u001b[0m, in \u001b[0;36m__getattr__\u001b[0;34m(attr_name)\u001b[0m\n\u001b[1;32m    205\u001b[0m dynamic_attr \u001b[39m=\u001b[39m _dynamic_imports\u001b[39m.\u001b[39mget(attr_name)\n\u001b[1;32m    206\u001b[0m \u001b[39mif\u001b[39;00m dynamic_attr \u001b[39mis\u001b[39;00m \u001b[39mNone\u001b[39;00m:\n\u001b[0;32m--> 207\u001b[0m     \u001b[39mreturn\u001b[39;00m _getattr_migration(attr_name)\n\u001b[1;32m    209\u001b[0m \u001b[39mfrom\u001b[39;00m \u001b[39mimportlib\u001b[39;00m \u001b[39mimport\u001b[39;00m import_module\n\u001b[1;32m    211\u001b[0m module \u001b[39m=\u001b[39m import_module(_dynamic_imports[attr_name], package\u001b[39m=\u001b[39m__package__)\n",
      "File \u001b[0;32m~/.pyenv/versions/3.11.1/lib/python3.11/site-packages/pydantic/_migration.py:288\u001b[0m, in \u001b[0;36mgetattr_migration.<locals>.wrapper\u001b[0;34m(name)\u001b[0m\n\u001b[1;32m    286\u001b[0m     \u001b[39mreturn\u001b[39;00m import_string(REDIRECT_TO_V1[import_path])\n\u001b[1;32m    287\u001b[0m \u001b[39mif\u001b[39;00m import_path \u001b[39m==\u001b[39m \u001b[39m'\u001b[39m\u001b[39mpydantic:BaseSettings\u001b[39m\u001b[39m'\u001b[39m:\n\u001b[0;32m--> 288\u001b[0m     \u001b[39mraise\u001b[39;00m PydanticImportError(\n\u001b[1;32m    289\u001b[0m         \u001b[39m'\u001b[39m\u001b[39m`BaseSettings` has been moved to the `pydantic-settings` package. \u001b[39m\u001b[39m'\u001b[39m\n\u001b[1;32m    290\u001b[0m         \u001b[39mf\u001b[39m\u001b[39m'\u001b[39m\u001b[39mSee https://docs.pydantic.dev/\u001b[39m\u001b[39m{\u001b[39;00mVERSION\u001b[39m}\u001b[39;00m\u001b[39m/migration/#basesettings-has-moved-to-pydantic-settings \u001b[39m\u001b[39m'\u001b[39m\n\u001b[1;32m    291\u001b[0m         \u001b[39m'\u001b[39m\u001b[39mfor more details.\u001b[39m\u001b[39m'\u001b[39m\n\u001b[1;32m    292\u001b[0m     )\n\u001b[1;32m    293\u001b[0m \u001b[39mif\u001b[39;00m import_path \u001b[39min\u001b[39;00m REMOVED_IN_V2:\n\u001b[1;32m    294\u001b[0m     \u001b[39mraise\u001b[39;00m PydanticImportError(\u001b[39mf\u001b[39m\u001b[39m'\u001b[39m\u001b[39m`\u001b[39m\u001b[39m{\u001b[39;00mimport_path\u001b[39m}\u001b[39;00m\u001b[39m` has been removed in V2.\u001b[39m\u001b[39m'\u001b[39m)\n",
      "\u001b[0;31mPydanticImportError\u001b[0m: `BaseSettings` has been moved to the `pydantic-settings` package. See https://docs.pydantic.dev/2.0.3/migration/#basesettings-has-moved-to-pydantic-settings for more details.\n\nFor further information visit https://errors.pydantic.dev/2.0.3/u/import-error"
     ]
    }
   ],
   "source": [
    "from pandas_profiling import ProfileReport\n",
    "profile = ProfileReport(df=df[vars_with_missing_data], minimal=True)\n",
    "profile.to_notebook_iframe()"
   ]
  },
  {
   "cell_type": "markdown",
   "metadata": {},
   "source": [
    "### Drop variables\n",
    "\n",
    "* The variables 'EnclosedPorch' and 'WoodDeckSF' have about 90% missing data and can be dropped."
   ]
  },
  {
   "cell_type": "code",
   "execution_count": 21,
   "metadata": {},
   "outputs": [
    {
     "name": "stdout",
     "output_type": "stream",
     "text": [
      "<class 'pandas.core.frame.DataFrame'>\n",
      "RangeIndex: 1460 entries, 0 to 1459\n",
      "Data columns (total 22 columns):\n",
      " #   Column        Non-Null Count  Dtype  \n",
      "---  ------        --------------  -----  \n",
      " 0   1stFlrSF      1460 non-null   float64\n",
      " 1   2ndFlrSF      1374 non-null   float64\n",
      " 2   BedroomAbvGr  1361 non-null   float64\n",
      " 3   BsmtExposure  1422 non-null   object \n",
      " 4   BsmtFinSF1    1460 non-null   float64\n",
      " 5   BsmtFinType1  1315 non-null   object \n",
      " 6   BsmtUnfSF     1460 non-null   float64\n",
      " 7   GarageArea    1460 non-null   float64\n",
      " 8   GarageFinish  1225 non-null   object \n",
      " 9   GarageYrBlt   1379 non-null   float64\n",
      " 10  GrLivArea     1460 non-null   float64\n",
      " 11  KitchenQual   1460 non-null   object \n",
      " 12  LotArea       1460 non-null   float64\n",
      " 13  LotFrontage   1201 non-null   float64\n",
      " 14  MasVnrArea    1452 non-null   float64\n",
      " 15  OpenPorchSF   1460 non-null   float64\n",
      " 16  OverallCond   1460 non-null   int64  \n",
      " 17  OverallQual   1460 non-null   int64  \n",
      " 18  TotalBsmtSF   1460 non-null   float64\n",
      " 19  YearBuilt     1460 non-null   int64  \n",
      " 20  YearRemodAdd  1460 non-null   int64  \n",
      " 21  SalePrice     1460 non-null   float64\n",
      "dtypes: float64(14), int64(4), object(4)\n",
      "memory usage: 251.1+ KB\n"
     ]
    }
   ],
   "source": [
    "from feature_engine.selection import DropFeatures\n",
    "drop_features = DropFeatures(features_to_drop = ['EnclosedPorch', 'WoodDeckSF'])\n",
    "\n",
    "df_transformed = drop_features.fit_transform(df)\n",
    "df_transformed.info()"
   ]
  },
  {
   "cell_type": "markdown",
   "metadata": {},
   "source": [
    "### Replace missing data with median"
   ]
  },
  {
   "cell_type": "code",
   "execution_count": 22,
   "metadata": {},
   "outputs": [
    {
     "data": {
      "text/plain": [
       "['2ndFlrSF',\n",
       " 'BedroomAbvGr',\n",
       " 'BsmtExposure',\n",
       " 'BsmtFinType1',\n",
       " 'EnclosedPorch',\n",
       " 'GarageFinish',\n",
       " 'GarageYrBlt',\n",
       " 'LotFrontage',\n",
       " 'MasVnrArea',\n",
       " 'WoodDeckSF']"
      ]
     },
     "execution_count": 22,
     "metadata": {},
     "output_type": "execute_result"
    }
   ],
   "source": [
    "vars_with_missing_data"
   ]
  },
  {
   "cell_type": "code",
   "execution_count": 23,
   "metadata": {},
   "outputs": [
    {
     "data": {
      "text/html": [
       "<div>\n",
       "<style scoped>\n",
       "    .dataframe tbody tr th:only-of-type {\n",
       "        vertical-align: middle;\n",
       "    }\n",
       "\n",
       "    .dataframe tbody tr th {\n",
       "        vertical-align: top;\n",
       "    }\n",
       "\n",
       "    .dataframe thead th {\n",
       "        text-align: right;\n",
       "    }\n",
       "</style>\n",
       "<table border=\"1\" class=\"dataframe\">\n",
       "  <thead>\n",
       "    <tr style=\"text-align: right;\">\n",
       "      <th></th>\n",
       "      <th>1stFlrSF</th>\n",
       "      <th>2ndFlrSF</th>\n",
       "      <th>BedroomAbvGr</th>\n",
       "      <th>BsmtExposure</th>\n",
       "      <th>BsmtFinSF1</th>\n",
       "      <th>BsmtFinType1</th>\n",
       "      <th>BsmtUnfSF</th>\n",
       "      <th>GarageArea</th>\n",
       "      <th>GarageFinish</th>\n",
       "      <th>GarageYrBlt</th>\n",
       "      <th>...</th>\n",
       "      <th>LotArea</th>\n",
       "      <th>LotFrontage</th>\n",
       "      <th>MasVnrArea</th>\n",
       "      <th>OpenPorchSF</th>\n",
       "      <th>OverallCond</th>\n",
       "      <th>OverallQual</th>\n",
       "      <th>TotalBsmtSF</th>\n",
       "      <th>YearBuilt</th>\n",
       "      <th>YearRemodAdd</th>\n",
       "      <th>SalePrice</th>\n",
       "    </tr>\n",
       "  </thead>\n",
       "  <tbody>\n",
       "    <tr>\n",
       "      <th>0</th>\n",
       "      <td>856.0</td>\n",
       "      <td>854.0</td>\n",
       "      <td>3.0</td>\n",
       "      <td>1.0</td>\n",
       "      <td>706.0</td>\n",
       "      <td>6.0</td>\n",
       "      <td>150.0</td>\n",
       "      <td>548.0</td>\n",
       "      <td>2.0</td>\n",
       "      <td>2003.0</td>\n",
       "      <td>...</td>\n",
       "      <td>8450.0</td>\n",
       "      <td>65.0</td>\n",
       "      <td>196.0</td>\n",
       "      <td>61.0</td>\n",
       "      <td>5</td>\n",
       "      <td>7</td>\n",
       "      <td>856.0</td>\n",
       "      <td>2003</td>\n",
       "      <td>2003</td>\n",
       "      <td>208500.0</td>\n",
       "    </tr>\n",
       "    <tr>\n",
       "      <th>1</th>\n",
       "      <td>1262.0</td>\n",
       "      <td>0.0</td>\n",
       "      <td>3.0</td>\n",
       "      <td>4.0</td>\n",
       "      <td>978.0</td>\n",
       "      <td>5.0</td>\n",
       "      <td>284.0</td>\n",
       "      <td>460.0</td>\n",
       "      <td>2.0</td>\n",
       "      <td>1976.0</td>\n",
       "      <td>...</td>\n",
       "      <td>9600.0</td>\n",
       "      <td>80.0</td>\n",
       "      <td>0.0</td>\n",
       "      <td>0.0</td>\n",
       "      <td>8</td>\n",
       "      <td>6</td>\n",
       "      <td>1262.0</td>\n",
       "      <td>1976</td>\n",
       "      <td>1976</td>\n",
       "      <td>181500.0</td>\n",
       "    </tr>\n",
       "    <tr>\n",
       "      <th>2</th>\n",
       "      <td>920.0</td>\n",
       "      <td>866.0</td>\n",
       "      <td>3.0</td>\n",
       "      <td>2.0</td>\n",
       "      <td>486.0</td>\n",
       "      <td>6.0</td>\n",
       "      <td>434.0</td>\n",
       "      <td>608.0</td>\n",
       "      <td>2.0</td>\n",
       "      <td>2001.0</td>\n",
       "      <td>...</td>\n",
       "      <td>11250.0</td>\n",
       "      <td>68.0</td>\n",
       "      <td>162.0</td>\n",
       "      <td>42.0</td>\n",
       "      <td>5</td>\n",
       "      <td>7</td>\n",
       "      <td>920.0</td>\n",
       "      <td>2001</td>\n",
       "      <td>2002</td>\n",
       "      <td>223500.0</td>\n",
       "    </tr>\n",
       "    <tr>\n",
       "      <th>3</th>\n",
       "      <td>961.0</td>\n",
       "      <td>0.0</td>\n",
       "      <td>3.0</td>\n",
       "      <td>1.0</td>\n",
       "      <td>216.0</td>\n",
       "      <td>5.0</td>\n",
       "      <td>540.0</td>\n",
       "      <td>642.0</td>\n",
       "      <td>1.0</td>\n",
       "      <td>1998.0</td>\n",
       "      <td>...</td>\n",
       "      <td>9550.0</td>\n",
       "      <td>60.0</td>\n",
       "      <td>0.0</td>\n",
       "      <td>35.0</td>\n",
       "      <td>5</td>\n",
       "      <td>7</td>\n",
       "      <td>756.0</td>\n",
       "      <td>1915</td>\n",
       "      <td>1970</td>\n",
       "      <td>140000.0</td>\n",
       "    </tr>\n",
       "    <tr>\n",
       "      <th>4</th>\n",
       "      <td>1145.0</td>\n",
       "      <td>0.0</td>\n",
       "      <td>4.0</td>\n",
       "      <td>3.0</td>\n",
       "      <td>655.0</td>\n",
       "      <td>6.0</td>\n",
       "      <td>490.0</td>\n",
       "      <td>836.0</td>\n",
       "      <td>2.0</td>\n",
       "      <td>2000.0</td>\n",
       "      <td>...</td>\n",
       "      <td>14260.0</td>\n",
       "      <td>84.0</td>\n",
       "      <td>350.0</td>\n",
       "      <td>84.0</td>\n",
       "      <td>5</td>\n",
       "      <td>8</td>\n",
       "      <td>1145.0</td>\n",
       "      <td>2000</td>\n",
       "      <td>2000</td>\n",
       "      <td>250000.0</td>\n",
       "    </tr>\n",
       "  </tbody>\n",
       "</table>\n",
       "<p>5 rows × 22 columns</p>\n",
       "</div>"
      ],
      "text/plain": [
       "   1stFlrSF  2ndFlrSF  BedroomAbvGr  BsmtExposure  BsmtFinSF1  BsmtFinType1  \\\n",
       "0     856.0     854.0           3.0           1.0       706.0           6.0   \n",
       "1    1262.0       0.0           3.0           4.0       978.0           5.0   \n",
       "2     920.0     866.0           3.0           2.0       486.0           6.0   \n",
       "3     961.0       0.0           3.0           1.0       216.0           5.0   \n",
       "4    1145.0       0.0           4.0           3.0       655.0           6.0   \n",
       "\n",
       "   BsmtUnfSF  GarageArea  GarageFinish  GarageYrBlt  ...  LotArea  \\\n",
       "0      150.0       548.0           2.0       2003.0  ...   8450.0   \n",
       "1      284.0       460.0           2.0       1976.0  ...   9600.0   \n",
       "2      434.0       608.0           2.0       2001.0  ...  11250.0   \n",
       "3      540.0       642.0           1.0       1998.0  ...   9550.0   \n",
       "4      490.0       836.0           2.0       2000.0  ...  14260.0   \n",
       "\n",
       "   LotFrontage  MasVnrArea  OpenPorchSF  OverallCond  OverallQual  \\\n",
       "0         65.0       196.0         61.0            5            7   \n",
       "1         80.0         0.0          0.0            8            6   \n",
       "2         68.0       162.0         42.0            5            7   \n",
       "3         60.0         0.0         35.0            5            7   \n",
       "4         84.0       350.0         84.0            5            8   \n",
       "\n",
       "   TotalBsmtSF  YearBuilt  YearRemodAdd  SalePrice  \n",
       "0        856.0       2003          2003   208500.0  \n",
       "1       1262.0       1976          1976   181500.0  \n",
       "2        920.0       2001          2002   223500.0  \n",
       "3        756.0       1915          1970   140000.0  \n",
       "4       1145.0       2000          2000   250000.0  \n",
       "\n",
       "[5 rows x 22 columns]"
      ]
     },
     "execution_count": 23,
     "metadata": {},
     "output_type": "execute_result"
    }
   ],
   "source": [
    "# Remove 'EnclosedPorch' and 'WoodDeckSF' from vars_with_missing_dat since we drop them\n",
    "vars_with_missing_data = ['2ndFlrSF', 'BedroomAbvGr', 'BsmtFinType1', 'GarageFinish', 'GarageYrBlt', 'LotFrontage', 'MasVnrArea']\n",
    "from feature_engine.imputation import MeanMedianImputer\n",
    "\n",
    "pipeline = Pipeline([\n",
    "      ('drop_features', DropFeatures(features_to_drop = ['EnclosedPorch', 'WoodDeckSF'])),\n",
    "      ('custom_encoder', MyCustomEncoder(variables=['BsmtExposure', 'BsmtFinType1', 'GarageFinish', 'KitchenQual'], dic=dic)),\n",
    "      ('median_imputer',  MeanMedianImputer(imputation_method='median', variables=vars_with_missing_data))\n",
    "])\n",
    "\n",
    "df2 = df.copy()\n",
    "df_transformed = pipeline.fit_transform(df2) \n",
    "df_transformed.head(5)   "
   ]
  },
  {
   "cell_type": "markdown",
   "metadata": {},
   "source": [
    "* Check that there is no missing data"
   ]
  },
  {
   "cell_type": "code",
   "execution_count": 24,
   "metadata": {},
   "outputs": [
    {
     "data": {
      "text/plain": [
       "['BsmtExposure']"
      ]
     },
     "execution_count": 24,
     "metadata": {},
     "output_type": "execute_result"
    }
   ],
   "source": [
    "vars_with_missing_data = df_transformed.columns[df_transformed.isna().sum() > 0].to_list()\n",
    "vars_with_missing_data"
   ]
  },
  {
   "cell_type": "markdown",
   "metadata": {},
   "source": [
    "* Print the computed median for each feature"
   ]
  },
  {
   "cell_type": "code",
   "execution_count": 25,
   "metadata": {},
   "outputs": [
    {
     "data": {
      "text/plain": [
       "{'2ndFlrSF': 0.0,\n",
       " 'BedroomAbvGr': 3.0,\n",
       " 'BsmtFinType1': 4.0,\n",
       " 'GarageFinish': 2.0,\n",
       " 'GarageYrBlt': 1980.0,\n",
       " 'LotFrontage': 69.0,\n",
       " 'MasVnrArea': 0.0}"
      ]
     },
     "execution_count": 25,
     "metadata": {},
     "output_type": "execute_result"
    }
   ],
   "source": [
    "pipeline['median_imputer'].imputer_dict_"
   ]
  },
  {
   "cell_type": "markdown",
   "metadata": {},
   "source": [
    "---"
   ]
  }
 ],
 "metadata": {
  "kernelspec": {
   "display_name": "Python 3",
   "language": "python",
   "name": "python3"
  },
  "language_info": {
   "codemirror_mode": {
    "name": "ipython",
    "version": 3
   },
   "file_extension": ".py",
   "mimetype": "text/x-python",
   "name": "python",
   "nbconvert_exporter": "python",
   "pygments_lexer": "ipython3",
   "version": "3.11.1"
  },
  "orig_nbformat": 4
 },
 "nbformat": 4,
 "nbformat_minor": 2
}
